{
 "cells": [
  {
   "cell_type": "code",
   "execution_count": 5,
   "metadata": {},
   "outputs": [],
   "source": [
    "import numpy as np\n",
    "import matplotlib.pyplot as plt\n",
    "from scipy.stats import truncnorm\n",
    "from tqdm import tqdm_notebook\n",
    "import cvxpy as cp"
   ]
  },
  {
   "cell_type": "markdown",
   "metadata": {},
   "source": [
    "# Utils"
   ]
  },
  {
   "cell_type": "code",
   "execution_count": 6,
   "metadata": {},
   "outputs": [],
   "source": [
    "def best_arm_rnd(my_list):\n",
    "    \"\"\"\n",
    "    returns the index i for which list[i] = max\n",
    "    breaks ties at random\n",
    "    \"\"\"\n",
    "    my_list = np.array(my_list)\n",
    "    max_val = np.max(my_list)\n",
    "    all_max = np.argwhere(my_list == max_val).flatten()\n",
    "    return np.random.choice(all_max)\n"
   ]
  },
  {
   "cell_type": "markdown",
   "metadata": {},
   "source": [
    "# Algorithms"
   ]
  },
  {
   "cell_type": "code",
   "execution_count": 7,
   "metadata": {},
   "outputs": [],
   "source": [
    "class Algorithm:\n",
    "    def __init__(self,\n",
    "                nb_arms,\n",
    "                horizon,\n",
    "                noise_variance,\n",
    "                ):\n",
    "        \"\"\"\n",
    "        noise_variance: noise of reward\n",
    "        \"\"\"\n",
    "        self.horizon = horizon\n",
    "        self.nb_arms = nb_arms\n",
    "        \n",
    "        self.noise_variance = noise_variance\n",
    "        self.noise_std = np.sqrt(noise_variance)\n",
    "        \n",
    "\n",
    "    \n",
    "    def run_algo(self):\n",
    "        raise NotImplementedError\n",
    "        \n",
    "    def run(self, NbExps, plot=True):\n",
    "        \"\"\"\n",
    "        Run algo for NbExps experiments \n",
    "        \"\"\"\n",
    "        self.all_cumregrets = np.zeros((NbExps, self.horizon))\n",
    "        for exp in (range(NbExps)):\n",
    "            self.run_algo()\n",
    "            cum_regret = np.cumsum(self.regret)\n",
    "            self.all_cumregrets[exp,:] = cum_regret\n",
    "\n",
    "        lower_regrets = np.percentile(self.all_cumregrets, 10, axis=0)\n",
    "        upper_regrets = np.percentile(self.all_cumregrets, 90, axis=0)\n",
    "        if plot:\n",
    "            plt.fill_between(np.arange(self.horizon), lower_regrets,upper_regrets,alpha=0.2)\n",
    "            plt.plot(np.mean(self.all_cumregrets,axis=0))\n",
    "            plt.title(self.name)\n",
    "            plt.grid()\n",
    "        return np.mean(self.all_cumregrets,axis=0), lower_regrets, upper_regrets"
   ]
  },
  {
   "cell_type": "markdown",
   "metadata": {},
   "source": [
    "# Optimal allocation matching"
   ]
  },
  {
   "cell_type": "code",
   "execution_count": 26,
   "metadata": {
    "scrolled": true
   },
   "outputs": [],
   "source": [
    "class haoLinearContextualBandit(Algorithm):\n",
    "    def __init__(self,\n",
    "                 action_sets,\n",
    "                 noise_variance=0.25,\n",
    "                 horizon=10000,\n",
    "                 theta_given=None,\n",
    "                 action_set_proba=None\n",
    "                 ):\n",
    "        \n",
    "        self.action_sets = action_sets # (M,K,d)\n",
    "        self.M = self.action_sets.shape[0]\n",
    "        \n",
    "        super().__init__(nb_arms=self.action_sets.shape[1],\n",
    "                         horizon=horizon, \n",
    "                         noise_variance=noise_variance,\n",
    "                         )\n",
    "        self.d=self.action_sets.shape[2]\n",
    "\n",
    "        self.theta_given = theta_given #(d,1)       \n",
    "        \n",
    "        self.name = f\"Hao_K-{self.nb_arms}_d-{self.d}_T-{horizon}_std-{self.noise_std}\"\n",
    "        \n",
    "        self.crit_opt = 1.1 # whenever det(G_t) increases by crit_opt, recompute opt (Not implemented)\n",
    "        \n",
    "        self.action_set_proba = action_set_proba #if specified, list of probabilities for each context\n",
    "        \n",
    "        self.fn = self.f_n_d(delta=1/self.horizon)\n",
    "        \n",
    "        \n",
    "    def init_theta(self):\n",
    "        \"\"\"\n",
    "        Initialize theta and true mus\n",
    "        \"\"\"\n",
    "        if self.theta_given is None:\n",
    "            self.theta = np.random.normal(0,1,(self.nb_arms, 1, self.d,))\n",
    "        else:\n",
    "            self.theta = self.theta_given\n",
    "            assert self.theta_given.shape == self.theta_hat.shape\n",
    "        self.true_mus = self.action_sets.dot(self.theta).reshape(self.M, self.nb_arms) \n",
    "        \n",
    "    \n",
    "    def f_n_d(self,delta,c=1):\n",
    "        \"\"\"\n",
    "        Compute f_{n,\\delta} \n",
    "        \"\"\"\n",
    "        n = self.horizon\n",
    "        fnd = (2*(1+1/np.log(n))*np.log(1/delta)\\\n",
    "               + c*self.d*np.log(self.d*np.log(n)))\n",
    "        return fnd\n",
    "   \n",
    "\n",
    "    def reset_algo(self):\n",
    "        self.Delta_hat = np.zeros((self.M, self.nb_arms))\n",
    "        self.theta_hat = np.zeros((self.d, 1))\n",
    "        self.mu_hat = np.zeros((self.nb_arms,))\n",
    "        \n",
    "        self.explo_count = 0\n",
    "        \n",
    "        self.regret = np.zeros((self.horizon,)) # Regret history\n",
    "        self.reward = np.zeros((self.horizon,)) # Rewards history\n",
    "        \n",
    "        self.nb_times_drawn = np.zeros((self.M, self.nb_arms), dtype=np.int16) \n",
    "\n",
    "        self.cov_G = np.zeros((self.d, self.d))\n",
    "        self.sum_XY = np.zeros((self.d,1))\n",
    "        \n",
    "        self.init_theta()\n",
    "        \n",
    "        self.max_repeat_T = 0 # Incremented when optimization returns None (should not be too high)         \n",
    "        \n",
    "        # Others\n",
    "        self.diff_theta = np.zeros((self.horizon,))\n",
    "        self.nb_linucb = 0\n",
    "        self.det_G = []\n",
    "        \n",
    "        \n",
    "    def sample_action_set(self,):\n",
    "        \"\"\"\n",
    "        sample according to self.action_set_proba \n",
    "        Return:\n",
    "        action context A_ct : (K,d)\n",
    "        context = idx of context (\\in self.M)\n",
    "        \"\"\"\n",
    "        assert len(self.action_set_proba) == self.M\n",
    "        assert sum(self.action_set_proba) == 1\n",
    "        \n",
    "        rnd = np.random.uniform(low=0, high=1)\n",
    "        probabilities = [0] + self.action_set_proba\n",
    "        cur_sum = 0\n",
    "        for m in range(self.M):\n",
    "            if cur_sum  <= rnd <= cur_sum + probabilities[m+1]:\n",
    "                context = m\n",
    "                break\n",
    "            cur_sum = cur_sum + probabilities[m+1]\n",
    "   \n",
    "        return self.action_sets[context], context\n",
    "\n",
    "  \n",
    "                               \n",
    "  \n",
    "        \n",
    "    \n",
    "    \n",
    "    def compute_optimization(self):\n",
    "        \"\"\"\n",
    "        Solve the approximated allocation rule\n",
    "        min \\sum_m \\sum_x T_x^m \\hat{delta}_x^m\n",
    "        st \n",
    "        T_x^m >= 0\n",
    "        x^T {H_T^-1}^2 x <= (\\hat{delta}_x^m^2 / f_n) for all x\n",
    "        H_T = \\sum_m \\sum_x T_x^m  xx^T\n",
    "        \"\"\"\n",
    "        deltas = self.Delta_hat.flatten() # (M*K,)\n",
    "        T = cp.Variable(self.M * self.nb_arms) # (M*K,)\n",
    "        H_T = cp.Variable((self.d, self.d))\n",
    "        \n",
    "        \n",
    "        all_arms = self.action_sets.reshape(self.M*self.nb_arms,\n",
    "                                            self.d)\n",
    "        dfn = np.square(deltas)/self.fn\n",
    "        #print(f\". dfn {dfn}\")\n",
    "        idx_non_zeros = np.where(dfn > 0)[0]\n",
    "        \n",
    "        #print(f\". all arms non zeros \\n {[all_arms[k] for k in idx_non_zeros]}\")\n",
    "        \n",
    "        objective = cp.Minimize(T @ deltas)\n",
    "        eps = 0.1\n",
    "        constraints = [T >= eps] + \\\n",
    "                      [H_T == all_arms.T @ cp.diag(T) @ all_arms ] + \\\n",
    "                      [cp.matrix_frac(all_arms[k], H_T) <= dfn[k] for k in idx_non_zeros] \n",
    "                      \n",
    "        problem = cp.Problem(objective, constraints)\n",
    "        opt_val = problem.solve()\n",
    "        \n",
    "        \n",
    "        T = T.value\n",
    "        H_T = H_T.value\n",
    "        \n",
    "       # print(f\". T opt : {T}\")\n",
    "       # print(f\". H_T opt: {H_T}\")\n",
    "       # assert np.linalg.matrix_rank(H_T) == self.d, H_T\n",
    "       # assert (T >= -0.1).all(), T\n",
    "       \n",
    "        #T[T<=0] = eps\n",
    "        if T is not None:\n",
    "            self.T = T.reshape(self.M, self.nb_arms)\n",
    "        else:\n",
    "            self.max_repeat_T += 1\n",
    "        return H_T\n",
    "        \n",
    "  \n",
    "    \n",
    "    def choose_LinUCB(self, A_ct, context):\n",
    "        \"\"\"\n",
    "        LinUCB policy\n",
    "        \"\"\"\n",
    "        self.nb_linucb += 1\n",
    "        bonus = np.sqrt(self.f_n_d(delta=1/self.explo_count**2))*self.norm_x_G_inv(A_ct=A_ct)\n",
    "        return best_arm_rnd(self.mu_hat[context] + bonus)\n",
    "    \n",
    "    \n",
    "    def compute_b1_b2(self, context):\n",
    "        \"\"\"\n",
    "        Returns indices of arm b1, b2 when doing exploration\n",
    "        \"\"\"\n",
    "        tmp_b1 = (self.nb_times_drawn[context]\\\n",
    "                  /np.min([self.T[context],\n",
    "                           self.fn/self.Delta_hat_min**2*np.ones(self.nb_arms)], axis=0))\n",
    "        b1 = np.argmin(tmp_b1)\n",
    "        b2 = np.argmin(self.nb_times_drawn[context])\n",
    "        return b1, b2\n",
    "        \n",
    "                \n",
    "                  \n",
    "                  \n",
    "        \n",
    "    def explore(self, A_ct, context):\n",
    "        \"\"\"\n",
    "        Returns index of arm chosen when doing exploration\n",
    "        \"\"\"\n",
    "        self.explo_count += 1\n",
    "        \n",
    "        cond = np.min([self.T[context],\n",
    "                      (self.fn/self.Delta_hat_min**2)*np.ones((self.nb_arms,))], axis=0)\n",
    "        \n",
    "        if (self.nb_times_drawn[context] >= cond).all():\n",
    "            return self.choose_LinUCB(A_ct=A_ct, context=context)\n",
    "        else:\n",
    "            b1, b2 = self.compute_b1_b2(context=context)\n",
    "            if self.nb_times_drawn[context][b2] <= self.explo_param*(self.explo_count-1):\n",
    "                return b2\n",
    "            else:\n",
    "                return b1\n",
    "        \n",
    "    \n",
    "    def norm_x_G_inv(self,  A_ct, idx_arm=None):\n",
    "        \"\"\"\n",
    "        Compute ||x||_{G^-1}^2 if the index of a single arm is specified (returns float)\n",
    "        Otherwise returns a (K,) array where each entry k is ||x_k||_{G^-1}^2\n",
    "        A_ct: (K,d)\n",
    "        \"\"\"\n",
    "        inv_cov_G = np.linalg.inv(self.cov_G)\n",
    "        if A_ct is None and arm is not None:\n",
    "            arm = A_ct[idx_arm].reshape(self.d,1)\n",
    "            return float(arm.dot(inv_cov_G).dot(arm.T))\n",
    "        elif A_ct is not None:\n",
    "            return np.diag(A_ct.dot(inv_cov_G).dot(A_ct.T))\n",
    "        else:\n",
    "            raise ValueError\n",
    "    \n",
    "    def should_exploit(self, A_ct, context):\n",
    "        \"\"\"\n",
    "        Return true if for all x in A_ct,\n",
    "        ||x||_{G_{t-1}^-1}^2 <= max(delta_min/fn, delta_x/fn)\n",
    "        \"\"\"\n",
    "        x_G_inv = self.norm_x_G_inv(A_ct=A_ct) #(K,)\n",
    "       \n",
    "        inv_cov_G = np.linalg.inv(self.cov_G)\n",
    "        \n",
    "        assert x_G_inv.shape[0] == self.nb_arms\n",
    "        cond = np.max([(self.Delta_hat_min**2/self.fn) * np.ones((self.nb_arms,)),\n",
    "                       np.square(self.Delta_hat[context])/self.fn], axis=0)\n",
    "        if (x_G_inv <= cond).all():\n",
    "            return True\n",
    "        else:\n",
    "            #print(x_G_inv)\n",
    "            #print(f\"cond = {cond} \\n\")\n",
    "            return False\n",
    "            \n",
    "    def update_stats(self, t, A_ct, context, idx_arm, init_phase=False):\n",
    "        self.nb_times_drawn[context, idx_arm] += 1\n",
    "        arm = A_ct[idx_arm].reshape(self.d,1)\n",
    "        \n",
    "        true_mus_ct = self.true_mus[context]# A_ct.dot(self.theta)\n",
    "        \n",
    "        reward_noise = np.random.normal(0,self.noise_std)\n",
    "        self.reward[t] = true_mus_ct[idx_arm] + reward_noise\n",
    "        self.regret[t] = np.max(true_mus_ct) - true_mus_ct[idx_arm]        \n",
    "        self.cov_G = self.cov_G + arm.dot(arm.T)\n",
    "        self.sum_XY = self.sum_XY + self.reward[t]*arm\n",
    "        \n",
    "        # Not necessary for algorithm:\n",
    "        self.diff_theta[t] = np.sum(np.abs(self.theta-self.theta_hat))\n",
    "        self.det_G.append(np.linalg.det(self.cov_G))\n",
    "        \n",
    "        \n",
    "        \n",
    "        if t >= self.d - 1:\n",
    "            assert np.linalg.matrix_rank(self.cov_G) == self.d, np.linalg.matrix_rank(self.cov_G)\n",
    "            \n",
    "            self.explo_param = 1/np.log(np.log(t+1))\n",
    "            \n",
    "            self.theta_hat = np.linalg.inv(self.cov_G).dot(self.sum_XY)\n",
    "            \n",
    "            self.mu_hat = self.action_sets.dot(self.theta_hat).reshape(self.M, self.nb_arms) \n",
    "            mu_opt = np.max(self.mu_hat, axis=1).reshape(self.M,1)\n",
    "            \n",
    "            self.Delta_hat = mu_opt - self.mu_hat\n",
    "           \n",
    "            self.Delta_hat_min = np.min(self.Delta_hat[self.Delta_hat>0])\n",
    "            \n",
    "            \n",
    "    def init_phase(self,):\n",
    "        \"\"\"\n",
    "        return arm which is not in the span of arms already drawn\n",
    "        \"\"\"\n",
    "        past_arms = np.zeros((self.d,self.d))\n",
    "        for t in range(self.d):\n",
    "            A_ct, context = self.sample_action_set()\n",
    "            potentials = []\n",
    "            for k in range(self.nb_arms):\n",
    "                past_arms[t] = A_ct[k]\n",
    "                if np.linalg.matrix_rank(past_arms) == t+1:\n",
    "                    potentials.append(k)\n",
    "           \n",
    "            assert len(potentials) >= 1, past_arms\n",
    "            idx_arm = np.random.choice(potentials)\n",
    "            past_arms[t] = A_ct[idx_arm]\n",
    "            self.update_stats(t=t,\n",
    "                              A_ct=A_ct, \n",
    "                              context=context, \n",
    "                              idx_arm=idx_arm,\n",
    "                             init_phase=True)\n",
    "        \n",
    "    def run_algo(self):\n",
    "        self.reset_algo()\n",
    "        self.init_phase()\n",
    "\n",
    "        for t in range(self.d, self.horizon):\n",
    "            if t %(self.horizon//5)==0:\n",
    "                print(f\"*********  t = {t}, Nb of times solver failed: {self.max_repeat_T}\")\n",
    "            A_ct, context = self.sample_action_set()\n",
    "            self.compute_optimization()\n",
    "           # assert (self.T>=0).all(), self.T\n",
    "\n",
    "  \n",
    "            if self.should_exploit(A_ct=A_ct, context=context):\n",
    "                idx_arm = best_arm_rnd(self.mu_hat[context])\n",
    "            else:\n",
    "                idx_arm = self.explore(A_ct=A_ct, context=context)\n",
    "\n",
    "\n",
    "\n",
    "            self.update_stats(t=t, A_ct=A_ct, context=context, idx_arm=idx_arm)\n",
    "\n",
    "\n",
    "\n"
   ]
  },
  {
   "cell_type": "markdown",
   "metadata": {},
   "source": [
    "### Fixed action set"
   ]
  },
  {
   "cell_type": "code",
   "execution_count": 27,
   "metadata": {},
   "outputs": [],
   "source": [
    "# Fixed \n",
    "u=0.2\n",
    "action_sets = np.array([[[1,0],\n",
    "                       [0,1],\n",
    "                       [1-u,5*u]]])\n",
    "probabilities = [1]\n",
    "theta = np.array([[1],\n",
    "                 [0],])"
   ]
  },
  {
   "cell_type": "code",
   "execution_count": 28,
   "metadata": {},
   "outputs": [],
   "source": [
    "N = 10000\n",
    "noise_variance = 1\n",
    "test_hao = haoLinearContextualBandit(action_sets= action_sets,\n",
    "                                     noise_variance=noise_variance,\n",
    "                                     horizon=N,\n",
    "                                     theta_given=theta,\n",
    "                                     action_set_proba=probabilities\n",
    "           )"
   ]
  },
  {
   "cell_type": "code",
   "execution_count": 29,
   "metadata": {
    "scrolled": true
   },
   "outputs": [
    {
     "name": "stdout",
     "output_type": "stream",
     "text": [
      "*********  t = 2000, Nb of times solver failed: 21\n",
      "*********  t = 4000, Nb of times solver failed: 29\n",
      "*********  t = 6000, Nb of times solver failed: 35\n",
      "*********  t = 8000, Nb of times solver failed: 45\n"
     ]
    },
    {
     "data": {
      "image/png": "[encoded data removed]",
      "text/plain": [
       "<Figure size 432x288 with 1 Axes>"
      ]
     },
     "metadata": {
      "needs_background": "light"
     },
     "output_type": "display_data"
    }
   ],
   "source": [
    "regrets = test_hao.run(NbExps=1, plot=True)"
   ]
  },
  {
   "cell_type": "markdown",
   "metadata": {},
   "source": [
    "## Changing action set"
   ]
  },
  {
   "cell_type": "code",
   "execution_count": 30,
   "metadata": {},
   "outputs": [
    {
     "name": "stdout",
     "output_type": "stream",
     "text": [
      "[[[1. ]\n",
      "  [0. ]\n",
      "  [0.9]]\n",
      "\n",
      " [[0. ]\n",
      "  [1. ]\n",
      "  [0.9]]]\n"
     ]
    }
   ],
   "source": [
    "# Changing action set\n",
    "A_1 = np.array([[1,0,0],\n",
    "               [0,1,0],\n",
    "               [0,0.5,0.9]])\n",
    "\n",
    "# Rows correspond to arms\n",
    "\n",
    "A_2 = np.array([[0,1,0],\n",
    "               [0,0,1],\n",
    "               [0.9,0.5,0]])\n",
    "\n",
    "action_sets = np.array([A_1,A_2]) # (M, K, d)\n",
    "probabilities = [0.3, 0.7]\n",
    "\n",
    "theta = np.array([[1],\n",
    "                 [0],\n",
    "                 [1]])\n",
    "true_mus = action_sets.dot(theta)\n",
    "print(true_mus)"
   ]
  },
  {
   "cell_type": "code",
   "execution_count": 31,
   "metadata": {},
   "outputs": [],
   "source": [
    "N = 10000\n",
    "noise_variance = 1\n",
    "test_hao = haoLinearContextualBandit(action_sets= action_sets,\n",
    "                                     noise_variance=noise_variance,\n",
    "                                     horizon=N,\n",
    "                                     theta_given=theta,\n",
    "                                     action_set_proba=probabilities\n",
    "                                    )"
   ]
  },
  {
   "cell_type": "code",
   "execution_count": 32,
   "metadata": {
    "scrolled": false
   },
   "outputs": [
    {
     "name": "stdout",
     "output_type": "stream",
     "text": [
      "*********  t = 2000, Nb of times solver failed: 199\n",
      "*********  t = 4000, Nb of times solver failed: 359\n",
      "*********  t = 6000, Nb of times solver failed: 509\n",
      "*********  t = 8000, Nb of times solver failed: 646\n"
     ]
    },
    {
     "data": {
      "text/plain": [
       "(array([1.0000e-01, 1.1000e+00, 1.2000e+00, ..., 3.0502e+03, 3.0503e+03,\n",
       "        3.0513e+03]),\n",
       " array([1.0000e-01, 1.1000e+00, 1.2000e+00, ..., 3.0502e+03, 3.0503e+03,\n",
       "        3.0513e+03]),\n",
       " array([1.0000e-01, 1.1000e+00, 1.2000e+00, ..., 3.0502e+03, 3.0503e+03,\n",
       "        3.0513e+03]))"
      ]
     },
     "execution_count": 32,
     "metadata": {},
     "output_type": "execute_result"
    },
    {
     "data": {
      "image/png": "[encoded data removed]",
      "text/plain": [
       "<Figure size 432x288 with 1 Axes>"
      ]
     },
     "metadata": {
      "needs_background": "light"
     },
     "output_type": "display_data"
    }
   ],
   "source": [
    "test_hao.run(NbExps=1)"
   ]
  },
  {
   "cell_type": "code",
   "execution_count": 33,
   "metadata": {},
   "outputs": [
    {
     "data": {
      "text/plain": [
       "[<matplotlib.lines.Line2D at 0x7faae9ccbba8>]"
      ]
     },
     "execution_count": 33,
     "metadata": {},
     "output_type": "execute_result"
    },
    {
     "data": {
      "image/png": "[encoded data removed]",
      "text/plain": [
       "<Figure size 432x288 with 1 Axes>"
      ]
     },
     "metadata": {
      "needs_background": "light"
     },
     "output_type": "display_data"
    }
   ],
   "source": [
    "plt.plot(test_hao.diff_theta)"
   ]
  },
  {
   "cell_type": "code",
   "execution_count": 859,
   "metadata": {},
   "outputs": [
    {
     "name": "stdout",
     "output_type": "stream",
     "text": [
      "[[[ 1. ]\n",
      "  [ 0. ]\n",
      "  [ 0.9]]\n",
      "\n",
      " [[ 0. ]\n",
      "  [-1. ]\n",
      "  [-1. ]]]\n"
     ]
    }
   ],
   "source": [
    "# Changing action set scenario 2\n",
    "A_1 = np.array([[1,0],\n",
    "               [0,1],\n",
    "               [0.9,0.5]])\n",
    "\n",
    "# Rows correspond to arms\n",
    "\n",
    "A_2 = np.array([[0,1],\n",
    "               [-1,0],\n",
    "               [-1,0]])\n",
    "\n",
    "action_sets = np.array([A_1,A_2]) # (M, K, d)\n",
    "probabilities = [0.99, 0.01]\n",
    "\n",
    "theta = np.array([[1],\n",
    "                 [0]])\n",
    "true_mus = action_sets.dot(theta)\n",
    "print(true_mus)"
   ]
  },
  {
   "cell_type": "code",
   "execution_count": 860,
   "metadata": {},
   "outputs": [
    {
     "name": "stdout",
     "output_type": "stream",
     "text": [
      "*********  t = 2000, max_repeat 180\n",
      "*********  t = 4000, max_repeat 449\n",
      "*********  t = 6000, max_repeat 737\n",
      "*********  t = 8000, max_repeat 1037\n"
     ]
    },
    {
     "data": {
      "text/plain": [
       "(array([1.00e-01, 1.00e-01, 1.10e+00, ..., 1.67e+03, 1.67e+03, 1.67e+03]),\n",
       " array([1.00e-01, 1.00e-01, 1.10e+00, ..., 1.67e+03, 1.67e+03, 1.67e+03]),\n",
       " array([1.00e-01, 1.00e-01, 1.10e+00, ..., 1.67e+03, 1.67e+03, 1.67e+03]))"
      ]
     },
     "execution_count": 860,
     "metadata": {},
     "output_type": "execute_result"
    },
    {
     "data": {
      "image/png": "[encoded data removed]",
      "text/plain": [
       "<Figure size 432x288 with 1 Axes>"
      ]
     },
     "metadata": {
      "needs_background": "light"
     },
     "output_type": "display_data"
    }
   ],
   "source": [
    "N = 10000\n",
    "noise_variance = 1\n",
    "test_hao = haoLinearContextualBandit(action_sets= action_sets,\n",
    "                                     noise_variance=noise_variance,\n",
    "                                     horizon=N,\n",
    "                                     theta_given=theta,\n",
    "                                     action_set_proba=probabilities\n",
    "                                    )\n",
    "test_hao.run(NbExps=1)"
   ]
  },
  {
   "cell_type": "code",
   "execution_count": null,
   "metadata": {},
   "outputs": [],
   "source": []
  },
  {
   "cell_type": "code",
   "execution_count": null,
   "metadata": {},
   "outputs": [],
   "source": []
  }
 ],
 "metadata": {
  "kernelspec": {
   "display_name": "Python 3",
   "language": "python",
   "name": "python3"
  },
  "language_info": {
   "codemirror_mode": {
    "name": "ipython",
    "version": 3
   },
   "file_extension": ".py",
   "mimetype": "text/x-python",
   "name": "python",
   "nbconvert_exporter": "python",
   "pygments_lexer": "ipython3",
   "version": "3.7.3"
  },
  "toc": {
   "base_numbering": 1,
   "nav_menu": {},
   "number_sections": true,
   "sideBar": true,
   "skip_h1_title": false,
   "title_cell": "Table of Contents",
   "title_sidebar": "Contents",
   "toc_cell": false,
   "toc_position": {
    "height": "calc(100% - 180px)",
    "left": "10px",
    "top": "150px",
    "width": "165px"
   },
   "toc_section_display": true,
   "toc_window_display": false
  }
 },
 "nbformat": 4,
 "nbformat_minor": 2
}
